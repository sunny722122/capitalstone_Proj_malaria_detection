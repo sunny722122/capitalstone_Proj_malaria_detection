{
  "nbformat": 4,
  "nbformat_minor": 0,
  "metadata": {
    "colab": {
      "name": "HSV_format.ipynb",
      "provenance": [],
      "collapsed_sections": [],
      "machine_shape": "hm",
      "authorship_tag": "ABX9TyPNxLOdFSiFGRa1Zsu8zrpD",
      "include_colab_link": true
    },
    "kernelspec": {
      "name": "python3",
      "display_name": "Python 3"
    },
    "language_info": {
      "name": "python"
    },
    "accelerator": "TPU",
    "gpuClass": "standard"
  },
  "cells": [
    {
      "cell_type": "markdown",
      "metadata": {
        "id": "view-in-github",
        "colab_type": "text"
      },
      "source": [
        "<a href=\"https://colab.research.google.com/github/sunny722122/capitalstone_Proj_malaria_detection/blob/main/HSV_format.ipynb\" target=\"_parent\"><img src=\"https://colab.research.google.com/assets/colab-badge.svg\" alt=\"Open In Colab\"/></a>"
      ]
    },
    {
      "cell_type": "markdown",
      "source": [
        "# **This notebook convert RGB images to HSV images and use CNN model to do classification**"
      ],
      "metadata": {
        "id": "e5mgIvcP_X5R"
      }
    },
    {
      "cell_type": "code",
      "source": [
        "!pip install tensorflow"
      ],
      "metadata": {
        "colab": {
          "base_uri": "https://localhost:8080/"
        },
        "id": "ZmVTL0na_3w3",
        "outputId": "7e0fd29b-b6e7-420e-a96b-e90d04bee81a"
      },
      "execution_count": 1,
      "outputs": [
        {
          "output_type": "stream",
          "name": "stdout",
          "text": [
            "Looking in indexes: https://pypi.org/simple, https://us-python.pkg.dev/colab-wheels/public/simple/\n",
            "Requirement already satisfied: tensorflow in /usr/local/lib/python3.7/dist-packages (2.8.2+zzzcolab20220719082949)\n",
            "Requirement already satisfied: tensorflow-estimator<2.9,>=2.8 in /usr/local/lib/python3.7/dist-packages (from tensorflow) (2.8.0)\n",
            "Requirement already satisfied: keras-preprocessing>=1.1.1 in /usr/local/lib/python3.7/dist-packages (from tensorflow) (1.1.2)\n",
            "Requirement already satisfied: keras<2.9,>=2.8.0rc0 in /usr/local/lib/python3.7/dist-packages (from tensorflow) (2.8.0)\n",
            "Requirement already satisfied: gast>=0.2.1 in /usr/local/lib/python3.7/dist-packages (from tensorflow) (0.5.3)\n",
            "Requirement already satisfied: grpcio<2.0,>=1.24.3 in /usr/local/lib/python3.7/dist-packages (from tensorflow) (1.47.0)\n",
            "Requirement already satisfied: wrapt>=1.11.0 in /usr/local/lib/python3.7/dist-packages (from tensorflow) (1.14.1)\n",
            "Requirement already satisfied: termcolor>=1.1.0 in /usr/local/lib/python3.7/dist-packages (from tensorflow) (1.1.0)\n",
            "Requirement already satisfied: astunparse>=1.6.0 in /usr/local/lib/python3.7/dist-packages (from tensorflow) (1.6.3)\n",
            "Requirement already satisfied: opt-einsum>=2.3.2 in /usr/local/lib/python3.7/dist-packages (from tensorflow) (3.3.0)\n",
            "Requirement already satisfied: tensorflow-io-gcs-filesystem>=0.23.1 in /usr/local/lib/python3.7/dist-packages (from tensorflow) (0.26.0)\n",
            "Requirement already satisfied: setuptools in /usr/local/lib/python3.7/dist-packages (from tensorflow) (57.4.0)\n",
            "Requirement already satisfied: tensorboard<2.9,>=2.8 in /usr/local/lib/python3.7/dist-packages (from tensorflow) (2.8.0)\n",
            "Requirement already satisfied: google-pasta>=0.1.1 in /usr/local/lib/python3.7/dist-packages (from tensorflow) (0.2.0)\n",
            "Requirement already satisfied: numpy>=1.20 in /usr/local/lib/python3.7/dist-packages (from tensorflow) (1.21.6)\n",
            "Requirement already satisfied: flatbuffers>=1.12 in /usr/local/lib/python3.7/dist-packages (from tensorflow) (2.0)\n",
            "Requirement already satisfied: absl-py>=0.4.0 in /usr/local/lib/python3.7/dist-packages (from tensorflow) (1.2.0)\n",
            "Requirement already satisfied: six>=1.12.0 in /usr/local/lib/python3.7/dist-packages (from tensorflow) (1.15.0)\n",
            "Requirement already satisfied: protobuf<3.20,>=3.9.2 in /usr/local/lib/python3.7/dist-packages (from tensorflow) (3.17.3)\n",
            "Requirement already satisfied: typing-extensions>=3.6.6 in /usr/local/lib/python3.7/dist-packages (from tensorflow) (4.1.1)\n",
            "Requirement already satisfied: libclang>=9.0.1 in /usr/local/lib/python3.7/dist-packages (from tensorflow) (14.0.1)\n",
            "Requirement already satisfied: h5py>=2.9.0 in /usr/local/lib/python3.7/dist-packages (from tensorflow) (3.1.0)\n",
            "Requirement already satisfied: wheel<1.0,>=0.23.0 in /usr/local/lib/python3.7/dist-packages (from astunparse>=1.6.0->tensorflow) (0.37.1)\n",
            "Requirement already satisfied: cached-property in /usr/local/lib/python3.7/dist-packages (from h5py>=2.9.0->tensorflow) (1.5.2)\n",
            "Requirement already satisfied: google-auth-oauthlib<0.5,>=0.4.1 in /usr/local/lib/python3.7/dist-packages (from tensorboard<2.9,>=2.8->tensorflow) (0.4.6)\n",
            "Requirement already satisfied: markdown>=2.6.8 in /usr/local/lib/python3.7/dist-packages (from tensorboard<2.9,>=2.8->tensorflow) (3.4.1)\n",
            "Requirement already satisfied: google-auth<3,>=1.6.3 in /usr/local/lib/python3.7/dist-packages (from tensorboard<2.9,>=2.8->tensorflow) (1.35.0)\n",
            "Requirement already satisfied: werkzeug>=0.11.15 in /usr/local/lib/python3.7/dist-packages (from tensorboard<2.9,>=2.8->tensorflow) (1.0.1)\n",
            "Requirement already satisfied: tensorboard-plugin-wit>=1.6.0 in /usr/local/lib/python3.7/dist-packages (from tensorboard<2.9,>=2.8->tensorflow) (1.8.1)\n",
            "Requirement already satisfied: requests<3,>=2.21.0 in /usr/local/lib/python3.7/dist-packages (from tensorboard<2.9,>=2.8->tensorflow) (2.23.0)\n",
            "Requirement already satisfied: tensorboard-data-server<0.7.0,>=0.6.0 in /usr/local/lib/python3.7/dist-packages (from tensorboard<2.9,>=2.8->tensorflow) (0.6.1)\n",
            "Requirement already satisfied: rsa<5,>=3.1.4 in /usr/local/lib/python3.7/dist-packages (from google-auth<3,>=1.6.3->tensorboard<2.9,>=2.8->tensorflow) (4.9)\n",
            "Requirement already satisfied: cachetools<5.0,>=2.0.0 in /usr/local/lib/python3.7/dist-packages (from google-auth<3,>=1.6.3->tensorboard<2.9,>=2.8->tensorflow) (4.2.4)\n",
            "Requirement already satisfied: pyasn1-modules>=0.2.1 in /usr/local/lib/python3.7/dist-packages (from google-auth<3,>=1.6.3->tensorboard<2.9,>=2.8->tensorflow) (0.2.8)\n",
            "Requirement already satisfied: requests-oauthlib>=0.7.0 in /usr/local/lib/python3.7/dist-packages (from google-auth-oauthlib<0.5,>=0.4.1->tensorboard<2.9,>=2.8->tensorflow) (1.3.1)\n",
            "Requirement already satisfied: importlib-metadata>=4.4 in /usr/local/lib/python3.7/dist-packages (from markdown>=2.6.8->tensorboard<2.9,>=2.8->tensorflow) (4.12.0)\n",
            "Requirement already satisfied: zipp>=0.5 in /usr/local/lib/python3.7/dist-packages (from importlib-metadata>=4.4->markdown>=2.6.8->tensorboard<2.9,>=2.8->tensorflow) (3.8.1)\n",
            "Requirement already satisfied: pyasn1<0.5.0,>=0.4.6 in /usr/local/lib/python3.7/dist-packages (from pyasn1-modules>=0.2.1->google-auth<3,>=1.6.3->tensorboard<2.9,>=2.8->tensorflow) (0.4.8)\n",
            "Requirement already satisfied: chardet<4,>=3.0.2 in /usr/local/lib/python3.7/dist-packages (from requests<3,>=2.21.0->tensorboard<2.9,>=2.8->tensorflow) (3.0.4)\n",
            "Requirement already satisfied: urllib3!=1.25.0,!=1.25.1,<1.26,>=1.21.1 in /usr/local/lib/python3.7/dist-packages (from requests<3,>=2.21.0->tensorboard<2.9,>=2.8->tensorflow) (1.24.3)\n",
            "Requirement already satisfied: certifi>=2017.4.17 in /usr/local/lib/python3.7/dist-packages (from requests<3,>=2.21.0->tensorboard<2.9,>=2.8->tensorflow) (2022.6.15)\n",
            "Requirement already satisfied: idna<3,>=2.5 in /usr/local/lib/python3.7/dist-packages (from requests<3,>=2.21.0->tensorboard<2.9,>=2.8->tensorflow) (2.10)\n",
            "Requirement already satisfied: oauthlib>=3.0.0 in /usr/local/lib/python3.7/dist-packages (from requests-oauthlib>=0.7.0->google-auth-oauthlib<0.5,>=0.4.1->tensorboard<2.9,>=2.8->tensorflow) (3.2.0)\n"
          ]
        }
      ]
    },
    {
      "cell_type": "code",
      "source": [
        "!pip install tensorflow_addons"
      ],
      "metadata": {
        "colab": {
          "base_uri": "https://localhost:8080/"
        },
        "id": "gYtwjDXSACT5",
        "outputId": "aed0c289-33cd-4ce5-8bc4-44e2666e61a4"
      },
      "execution_count": 2,
      "outputs": [
        {
          "output_type": "stream",
          "name": "stdout",
          "text": [
            "Looking in indexes: https://pypi.org/simple, https://us-python.pkg.dev/colab-wheels/public/simple/\n",
            "Collecting tensorflow_addons\n",
            "  Downloading tensorflow_addons-0.17.1-cp37-cp37m-manylinux_2_17_x86_64.manylinux2014_x86_64.whl (1.1 MB)\n",
            "\u001b[K     |████████████████████████████████| 1.1 MB 5.3 MB/s \n",
            "\u001b[?25hRequirement already satisfied: typeguard>=2.7 in /usr/local/lib/python3.7/dist-packages (from tensorflow_addons) (2.7.1)\n",
            "Requirement already satisfied: packaging in /usr/local/lib/python3.7/dist-packages (from tensorflow_addons) (21.3)\n",
            "Requirement already satisfied: pyparsing!=3.0.5,>=2.0.2 in /usr/local/lib/python3.7/dist-packages (from packaging->tensorflow_addons) (3.0.9)\n",
            "Installing collected packages: tensorflow-addons\n",
            "Successfully installed tensorflow-addons-0.17.1\n"
          ]
        }
      ]
    },
    {
      "cell_type": "code",
      "execution_count": 3,
      "metadata": {
        "colab": {
          "base_uri": "https://localhost:8080/"
        },
        "id": "I7epEC_k_I77",
        "outputId": "d4ca1a72-1e23-47ad-8d42-46b564fdffeb"
      },
      "outputs": [
        {
          "output_type": "stream",
          "name": "stdout",
          "text": [
            "Mounted at /content/drive\n"
          ]
        }
      ],
      "source": [
        "from google.colab import drive\n",
        "\n",
        "drive.mount('/content/drive')"
      ]
    },
    {
      "cell_type": "markdown",
      "source": [
        "Importing the necessary libraries"
      ],
      "metadata": {
        "id": "IMXiq3vb_t2O"
      }
    },
    {
      "cell_type": "code",
      "source": [
        "import numpy as np\n",
        "\n",
        "import pandas as pd\n",
        "\n",
        "import matplotlib.pyplot as plt\n",
        "\n",
        "import seaborn as sns\n",
        "\n",
        "from sklearn.model_selection import train_test_split\n",
        "\n",
        "from sklearn.preprocessing import MinMaxScaler\n",
        "\n",
        "import tensorflow as tf\n",
        "\n",
        "from tensorflow.keras.models import Sequential\n",
        "from tensorflow.keras import layers\n",
        "import tensorflow_addons as tfa\n",
        "from tensorflow.keras.layers import Dense, Conv2D, MaxPool2D, BatchNormalization, Dropout, Flatten, LeakyReLU\n",
        "\n",
        "from tensorflow.keras.losses import categorical_crossentropy\n",
        "\n",
        "from tensorflow.keras.optimizers import Adam\n",
        "\n",
        "from tensorflow.keras.utils import to_categorical"
      ],
      "metadata": {
        "id": "lMwG3ORp_u2S"
      },
      "execution_count": 4,
      "outputs": []
    },
    {
      "cell_type": "markdown",
      "source": [
        "## **Load the dataset**"
      ],
      "metadata": {
        "id": "et6j9Ts1AJNO"
      }
    },
    {
      "cell_type": "code",
      "source": [
        "import matplotlib.pyplot as plt\n",
        "import numpy as np\n",
        "import pandas as pd\n",
        "import seaborn as sns\n",
        "import os\n",
        "import zipfile\n",
        "from PIL import Image\n",
        "\n",
        "# Importing Deep Learning Libraries\n",
        "\n",
        "from tensorflow.keras.utils import load_img, img_to_array\n",
        "from tensorflow.keras.preprocessing.image import ImageDataGenerator\n",
        "from tensorflow.keras.layers import Dense, Input, Dropout, GlobalAveragePooling2D, Flatten, Conv2D, BatchNormalization, Activation, MaxPooling2D\n",
        "from tensorflow.keras.models import Model, Sequential\n",
        "from tensorflow.keras.optimizers import Adam, SGD, RMSprop\n",
        "\n",
        "import imghdr\n",
        "file_name='/content/drive/MyDrive/cell_images.zip'\n",
        "with zipfile.ZipFile(file_name, 'r') as zipref:\n",
        "  zipref.extractall()"
      ],
      "metadata": {
        "id": "7zU8qpbGANnV"
      },
      "execution_count": 5,
      "outputs": []
    },
    {
      "cell_type": "code",
      "source": [
        "picture_size = 48\n",
        "channels=3\n",
        "folder_path = \"cell_images/\""
      ],
      "metadata": {
        "id": "jcsatMJlAVgz"
      },
      "execution_count": 6,
      "outputs": []
    },
    {
      "cell_type": "code",
      "source": [
        "# Storing the path of the extracted \"train\" folder \n",
        "train_dir = '/content/cell_images/train'\n",
        "\n",
        "# Size of image so that each image has the same size\n",
        "SIZE = 64\n",
        "\n",
        "# Empty list to store the training images after they are converted to NumPy arrays\n",
        "train_images = []\n",
        "\n",
        "# Empty list to store the training labels (0 - uninfected, 1 - parasitized)\n",
        "train_labels = []"
      ],
      "metadata": {
        "id": "YGGcVvtmBQuw"
      },
      "execution_count": 7,
      "outputs": []
    },
    {
      "cell_type": "code",
      "source": [
        "# We will run the same code for \"parasitized\" as well as \"uninfected\" folders within the \"train\" folder\n",
        "for folder_name in ['/parasitized/', '/uninfected/']:\n",
        "    \n",
        "    # Path of the folder\n",
        "    images_path = os.listdir(train_dir + folder_name)\n",
        "\n",
        "    for i, image_name in enumerate(images_path):\n",
        "    \n",
        "        try:\n",
        "    \n",
        "            # Opening each image using the path of that image\n",
        "            image = Image.open(train_dir + folder_name + image_name)\n",
        "\n",
        "            # Resizing each image to (64, 64)\n",
        "            image = image.resize((SIZE, SIZE))\n",
        "\n",
        "            # Converting images to arrays and appending that array to the empty list defined above\n",
        "            train_images.append(np.array(image))\n",
        "\n",
        "            # Creating labels for parasitized and uninfected images\n",
        "            if folder_name == '/parasitized/':\n",
        "            \n",
        "                train_labels.append(1)\n",
        "           \n",
        "            else:\n",
        "           \n",
        "                train_labels.append(0)\n",
        "        \n",
        "        except Exception:\n",
        "       \n",
        "            pass       \n",
        "\n",
        "# Converting lists to arrays\n",
        "train_images = np.array(train_images)\n",
        "\n",
        "train_labels = np.array(train_labels)"
      ],
      "metadata": {
        "id": "mUUgSCszBWlf"
      },
      "execution_count": 8,
      "outputs": []
    },
    {
      "cell_type": "code",
      "source": [
        "# Storing the path of the extracted \"test\" folder \n",
        "test_dir = '/content/cell_images/test'\n",
        "\n",
        "# Size of image so that each image has the same size (it must be same as the train image size)\n",
        "SIZE = 64\n",
        "\n",
        "# Empty list to store the testing images after they are converted to NumPy arrays\n",
        "test_images = []\n",
        "\n",
        "# Empty list to store the testing labels (0 - uninfected, 1 - parasitized)\n",
        "test_labels = []"
      ],
      "metadata": {
        "id": "iVfmEpO1BaF-"
      },
      "execution_count": 9,
      "outputs": []
    },
    {
      "cell_type": "code",
      "source": [
        "# We will run the same code for \"parasitized\" as well as \"uninfected\" folders within the \"test\" folder\n",
        "for folder_name in ['/parasitized/', '/uninfected/']:\n",
        "    \n",
        "    # Path of the folder\n",
        "    images_path = os.listdir(test_dir + folder_name)\n",
        "\n",
        "    for i, image_name in enumerate(images_path):\n",
        "\n",
        "        try:\n",
        "            # Opening each image using the path of that image\n",
        "            image = Image.open(test_dir + folder_name + image_name)\n",
        "            \n",
        "            # Resizing each image to (64, 64)\n",
        "            image = image.resize((SIZE, SIZE))\n",
        "            \n",
        "            # Converting images to arrays and appending that array to the empty list defined above\n",
        "            test_images.append(np.array(image))\n",
        "            \n",
        "            # Creating labels for parasitized and uninfected images\n",
        "            if folder_name == '/parasitized/':\n",
        "\n",
        "                test_labels.append(1)\n",
        "\n",
        "            else:\n",
        "\n",
        "                test_labels.append(0)\n",
        "\n",
        "        except Exception:\n",
        "\n",
        "            pass       \n",
        "\n",
        "# Converting lists to arrays\n",
        "test_images = np.array(test_images)\n",
        "\n",
        "test_labels = np.array(test_labels)"
      ],
      "metadata": {
        "id": "dge9gtJIBa9u"
      },
      "execution_count": 10,
      "outputs": []
    },
    {
      "cell_type": "markdown",
      "source": [
        "###<b>Normalize the images"
      ],
      "metadata": {
        "id": "ouf99RC4BjuC"
      }
    },
    {
      "cell_type": "code",
      "source": [
        "train_images = (train_images/255).astype('float32')\n",
        "\n",
        "test_images = (test_images/255).astype('float32')"
      ],
      "metadata": {
        "id": "IUUhecYVBkkS"
      },
      "execution_count": 11,
      "outputs": []
    },
    {
      "cell_type": "markdown",
      "source": [
        "# **One hot encoding labels**"
      ],
      "metadata": {
        "id": "4RPBnezZBwJU"
      }
    },
    {
      "cell_type": "code",
      "source": [
        "# Encoding Train Labels\n",
        "train_labels = tf.keras.utils.to_categorical(train_labels, 2)\n",
        "\n",
        "# Similarly let us try to encode test labels\n",
        "test_labels = tf.keras.utils.to_categorical(test_labels, 2)"
      ],
      "metadata": {
        "id": "MrvZHBaEByed"
      },
      "execution_count": 12,
      "outputs": []
    },
    {
      "cell_type": "markdown",
      "source": [
        "###<b> Converting the train data"
      ],
      "metadata": {
        "id": "JFwnS1DwB4tF"
      }
    },
    {
      "cell_type": "code",
      "source": [
        "import cv2\n",
        "\n",
        "gfx_train=[]   # to hold the HSV image array\n",
        "\n",
        "for i in np.arange(0, 100, 1):\n",
        "\n",
        "  a = cv2.cvtColor(train_images[i], cv2.COLOR_BGR2HSV)\n",
        "  \n",
        "  gfx_train.append(a)\n",
        "\n",
        "gfx_train = np.array(gfx_train)"
      ],
      "metadata": {
        "id": "N5ttbdJ6BuuD"
      },
      "execution_count": 13,
      "outputs": []
    },
    {
      "cell_type": "code",
      "source": [
        "viewimage = np.random.randint(1, 100, 5)\n",
        "\n",
        "fig, ax = plt.subplots(1, 5, figsize = (18, 18))\n",
        "\n",
        "for t, i in zip(range(5), viewimage):\n",
        "\n",
        "  Title = train_labels[i]\n",
        "\n",
        "  ax[t].set_title(Title)\n",
        "\n",
        "  ax[t].imshow(gfx_train[i])\n",
        "\n",
        "  ax[t].set_axis_off()\n",
        "  \n",
        "  fig.tight_layout()"
      ],
      "metadata": {
        "colab": {
          "base_uri": "https://localhost:8080/",
          "height": 435
        },
        "id": "gB1PNGF_B32L",
        "outputId": "b2ffda27-2ec6-4397-adb4-1792f261be26"
      },
      "execution_count": 14,
      "outputs": [
        {
          "output_type": "stream",
          "name": "stderr",
          "text": [
            "/usr/local/lib/python3.7/dist-packages/matplotlib/text.py:1165: FutureWarning: elementwise comparison failed; returning scalar instead, but in the future will perform elementwise comparison\n",
            "  if s != self._text:\n",
            "Clipping input data to the valid range for imshow with RGB data ([0..1] for floats or [0..255] for integers).\n",
            "Clipping input data to the valid range for imshow with RGB data ([0..1] for floats or [0..255] for integers).\n",
            "Clipping input data to the valid range for imshow with RGB data ([0..1] for floats or [0..255] for integers).\n",
            "Clipping input data to the valid range for imshow with RGB data ([0..1] for floats or [0..255] for integers).\n",
            "Clipping input data to the valid range for imshow with RGB data ([0..1] for floats or [0..255] for integers).\n"
          ]
        },
        {
          "output_type": "display_data",
          "data": {
            "text/plain": [
              "<Figure size 1296x1296 with 5 Axes>"
            ],
            "image/png": "[encoded data removed]"
          },
          "metadata": {
            "needs_background": "light"
          }
        }
      ]
    },
    {
      "cell_type": "markdown",
      "source": [
        "###<b> Converting the test data"
      ],
      "metadata": {
        "id": "eblcG5RFCGRn"
      }
    },
    {
      "cell_type": "code",
      "source": [
        "gfx_test=[]   # to hold the HSV image array\n",
        "\n",
        "for i in np.arange(0, 100, 1):\n",
        "\n",
        "  a = cv2.cvtColor(test_images[i], cv2.COLOR_BGR2HSV)\n",
        "  \n",
        "  gfx_test.append(a)\n",
        "\n",
        "gfx_test = np.array(gfx_test)"
      ],
      "metadata": {
        "id": "5GRx93o8CHFf"
      },
      "execution_count": 15,
      "outputs": []
    },
    {
      "cell_type": "code",
      "source": [
        "viewimage = np.random.randint(1, 100, 5)\n",
        "\n",
        "fig, ax = plt.subplots(1, 5, figsize = (18, 18))\n",
        "\n",
        "for t, i in zip(range(5), viewimage):\n",
        "\n",
        "  Title = test_labels[i]\n",
        "\n",
        "  ax[t].set_title(Title)\n",
        "\n",
        "  ax[t].imshow(gfx_test[i])\n",
        "\n",
        "  ax[t].set_axis_off()\n",
        "  \n",
        "  fig.tight_layout()"
      ],
      "metadata": {
        "colab": {
          "base_uri": "https://localhost:8080/",
          "height": 435
        },
        "id": "_CvESkVXCL5j",
        "outputId": "c0ca1de8-dee7-46d2-bf74-f47c6fbba2d5"
      },
      "execution_count": 16,
      "outputs": [
        {
          "output_type": "stream",
          "name": "stderr",
          "text": [
            "/usr/local/lib/python3.7/dist-packages/matplotlib/text.py:1165: FutureWarning: elementwise comparison failed; returning scalar instead, but in the future will perform elementwise comparison\n",
            "  if s != self._text:\n",
            "Clipping input data to the valid range for imshow with RGB data ([0..1] for floats or [0..255] for integers).\n",
            "Clipping input data to the valid range for imshow with RGB data ([0..1] for floats or [0..255] for integers).\n",
            "Clipping input data to the valid range for imshow with RGB data ([0..1] for floats or [0..255] for integers).\n",
            "Clipping input data to the valid range for imshow with RGB data ([0..1] for floats or [0..255] for integers).\n",
            "Clipping input data to the valid range for imshow with RGB data ([0..1] for floats or [0..255] for integers).\n"
          ]
        },
        {
          "output_type": "display_data",
          "data": {
            "text/plain": [
              "<Figure size 1296x1296 with 5 Axes>"
            ],
            "image/png": "[encoded data removed]"
          },
          "metadata": {
            "needs_background": "light"
          }
        }
      ]
    },
    {
      "cell_type": "markdown",
      "source": [
        "# **Build Models**"
      ],
      "metadata": {
        "id": "4kIRUmPBEIPi"
      }
    },
    {
      "cell_type": "code",
      "source": [
        "# Clearing backend\n",
        "from tensorflow.keras import backend\n",
        "\n",
        "from tensorflow.keras.utils import to_categorical\n",
        "\n",
        "from tensorflow.keras.models import Sequential\n",
        "\n",
        "from tensorflow.keras.layers import Conv2D, MaxPooling2D, Dense, Flatten, Dropout, LeakyReLU,BatchNormalization\n",
        "\n",
        "from tensorflow.keras.callbacks import EarlyStopping, ModelCheckpoint\n",
        "\n",
        "from random import shuffle\n",
        "\n",
        "backend.clear_session()\n",
        "\n",
        "# Fixing the seed for random number generators so that we can ensure we receive the same output everytime\n",
        "np.random.seed(42)\n",
        "\n",
        "import random\n",
        "\n",
        "random.seed(42)\n",
        "\n",
        "tf.random.set_seed(42)"
      ],
      "metadata": {
        "id": "Ng_GchPoEuNj"
      },
      "execution_count": 17,
      "outputs": []
    },
    {
      "cell_type": "code",
      "source": [
        "# Creating sequential model\n",
        "model = Sequential()\n",
        "\n",
        "model.add(Conv2D(filters = 32, kernel_size = 2, padding = \"same\", activation = \"relu\", input_shape = (64, 64, 3)))\n",
        "\n",
        "model.add(MaxPooling2D(pool_size = 2))\n",
        "\n",
        "model.add(Dropout(0.2))\n",
        "\n",
        "model.add(Conv2D(filters = 32, kernel_size = 2, padding = \"same\", activation = \"relu\"))\n",
        "\n",
        "model.add(MaxPooling2D(pool_size = 2))\n",
        "\n",
        "model.add(Dropout(0.2))\n",
        "\n",
        "model.add(Conv2D(filters = 32, kernel_size = 2, padding = \"same\", activation = \"relu\"))\n",
        "\n",
        "model.add(MaxPooling2D(pool_size = 2))\n",
        "\n",
        "model.add(Dropout(0.2))\n",
        "\n",
        "model.add(Flatten())\n",
        "\n",
        "model.add(Dense(512, activation = \"relu\"))\n",
        "\n",
        "model.add(Dropout(0.4))\n",
        "\n",
        "model.add(Dense(2, activation = \"softmax\")) # 2 represents output layer neurons \n",
        "\n",
        "model.summary()"
      ],
      "metadata": {
        "colab": {
          "base_uri": "https://localhost:8080/"
        },
        "id": "5c3739GUE5e5",
        "outputId": "0fbb8fd4-3705-4a51-d63c-87084755d89a"
      },
      "execution_count": 18,
      "outputs": [
        {
          "output_type": "stream",
          "name": "stdout",
          "text": [
            "Model: \"sequential\"\n",
            "_________________________________________________________________\n",
            " Layer (type)                Output Shape              Param #   \n",
            "=================================================================\n",
            " conv2d (Conv2D)             (None, 64, 64, 32)        416       \n",
            "                                                                 \n",
            " max_pooling2d (MaxPooling2D  (None, 32, 32, 32)       0         \n",
            " )                                                               \n",
            "                                                                 \n",
            " dropout (Dropout)           (None, 32, 32, 32)        0         \n",
            "                                                                 \n",
            " conv2d_1 (Conv2D)           (None, 32, 32, 32)        4128      \n",
            "                                                                 \n",
            " max_pooling2d_1 (MaxPooling  (None, 16, 16, 32)       0         \n",
            " 2D)                                                             \n",
            "                                                                 \n",
            " dropout_1 (Dropout)         (None, 16, 16, 32)        0         \n",
            "                                                                 \n",
            " conv2d_2 (Conv2D)           (None, 16, 16, 32)        4128      \n",
            "                                                                 \n",
            " max_pooling2d_2 (MaxPooling  (None, 8, 8, 32)         0         \n",
            " 2D)                                                             \n",
            "                                                                 \n",
            " dropout_2 (Dropout)         (None, 8, 8, 32)          0         \n",
            "                                                                 \n",
            " flatten (Flatten)           (None, 2048)              0         \n",
            "                                                                 \n",
            " dense (Dense)               (None, 512)               1049088   \n",
            "                                                                 \n",
            " dropout_3 (Dropout)         (None, 512)               0         \n",
            "                                                                 \n",
            " dense_1 (Dense)             (None, 2)                 1026      \n",
            "                                                                 \n",
            "=================================================================\n",
            "Total params: 1,058,786\n",
            "Trainable params: 1,058,786\n",
            "Non-trainable params: 0\n",
            "_________________________________________________________________\n"
          ]
        }
      ]
    },
    {
      "cell_type": "markdown",
      "source": [
        "###<b> Compiling the model"
      ],
      "metadata": {
        "id": "SGX9UktsE_Qr"
      }
    },
    {
      "cell_type": "code",
      "source": [
        "model.compile(loss = 'binary_crossentropy', optimizer = 'adam', metrics = ['accuracy'])"
      ],
      "metadata": {
        "id": "byATvsTKFAJu"
      },
      "execution_count": 19,
      "outputs": []
    },
    {
      "cell_type": "markdown",
      "source": [
        "<b> Using Callbacks "
      ],
      "metadata": {
        "id": "8vvCDLQJFEsn"
      }
    },
    {
      "cell_type": "code",
      "source": [
        "callbacks = [EarlyStopping(monitor = 'val_loss', patience = 2),\n",
        "             ModelCheckpoint('.mdl_wts.hdf5', monitor = 'val_loss', save_best_only = True)]"
      ],
      "metadata": {
        "id": "ev7qG0AJFHyz"
      },
      "execution_count": 20,
      "outputs": []
    },
    {
      "cell_type": "markdown",
      "source": [
        "<b> Fit and train our Model"
      ],
      "metadata": {
        "id": "g06G6p2wFLaU"
      }
    },
    {
      "cell_type": "code",
      "source": [
        "# Fit the model with min batch size as 32 can tune batch size to some factor of 2^power ] \n",
        "history = model.fit(train_images, train_labels, batch_size = 32, callbacks = callbacks, validation_split = 0.2, epochs = 20, verbose = 1)"
      ],
      "metadata": {
        "colab": {
          "base_uri": "https://localhost:8080/"
        },
        "id": "RYRBZj7iFPQr",
        "outputId": "bd4a9200-bcdb-45fd-f29d-79ff1f86bc1b"
      },
      "execution_count": 21,
      "outputs": [
        {
          "output_type": "stream",
          "name": "stdout",
          "text": [
            "Epoch 1/20\n",
            "624/624 [==============================] - 14s 22ms/step - loss: 0.3890 - accuracy: 0.8138 - val_loss: 0.1464 - val_accuracy: 0.9768\n",
            "Epoch 2/20\n",
            "624/624 [==============================] - 13s 21ms/step - loss: 0.1258 - accuracy: 0.9566 - val_loss: 0.2028 - val_accuracy: 0.9525\n",
            "Epoch 3/20\n",
            "624/624 [==============================] - 14s 22ms/step - loss: 0.0960 - accuracy: 0.9685 - val_loss: 0.0672 - val_accuracy: 0.9886\n",
            "Epoch 4/20\n",
            "624/624 [==============================] - 14s 22ms/step - loss: 0.0810 - accuracy: 0.9737 - val_loss: 0.0923 - val_accuracy: 0.9846\n",
            "Epoch 5/20\n",
            "624/624 [==============================] - 14s 22ms/step - loss: 0.0756 - accuracy: 0.9757 - val_loss: 0.0854 - val_accuracy: 0.9820\n"
          ]
        }
      ]
    },
    {
      "cell_type": "markdown",
      "source": [
        "###<b> Evaluating the model on test data"
      ],
      "metadata": {
        "id": "Wx7VfbD_FXgj"
      }
    },
    {
      "cell_type": "code",
      "source": [
        "accuracy = model.evaluate(test_images, test_labels, verbose = 1)\n",
        "print('\\n', 'Test_Accuracy:-', accuracy[1])"
      ],
      "metadata": {
        "colab": {
          "base_uri": "https://localhost:8080/"
        },
        "id": "mPzp-XswFYew",
        "outputId": "1006104c-833b-471d-b24b-03d79146d134"
      },
      "execution_count": 22,
      "outputs": [
        {
          "output_type": "stream",
          "name": "stdout",
          "text": [
            "82/82 [==============================] - 1s 7ms/step - loss: 0.0788 - accuracy: 0.9765\n",
            "\n",
            " Test_Accuracy:- 0.9765384793281555\n"
          ]
        }
      ]
    },
    {
      "cell_type": "markdown",
      "source": [
        "<b> Plotting the confusion matrix"
      ],
      "metadata": {
        "id": "Tmu5jgnZFcIp"
      }
    },
    {
      "cell_type": "code",
      "source": [
        "from sklearn.metrics import classification_report\n",
        "\n",
        "from sklearn.metrics import confusion_matrix\n",
        "\n",
        "pred = model.predict(test_images)\n",
        "\n",
        "pred = np.argmax(pred, axis = 1) \n",
        "\n",
        "y_true = np.argmax(test_labels, axis = 1)\n",
        "\n",
        "# Printing the classification report\n",
        "print(classification_report(y_true, pred))\n",
        "\n",
        "# Plotting the heatmap using confusion matrix\n",
        "cm = confusion_matrix(y_true, pred)\n",
        "\n",
        "plt.figure(figsize = (8, 5))\n",
        "\n",
        "sns.heatmap(cm, annot = True,  fmt = '.0f', xticklabels = ['Uninfected', 'Parasitized'], yticklabels = ['Uninfected', 'Parasitized'])\n",
        "\n",
        "plt.ylabel('Actual')\n",
        "\n",
        "plt.xlabel('Predicted')\n",
        "\n",
        "plt.show()"
      ],
      "metadata": {
        "colab": {
          "base_uri": "https://localhost:8080/",
          "height": 490
        },
        "id": "J9YJSB1pFfuW",
        "outputId": "b44bc3c2-d2e7-43c1-b518-fa3531491599"
      },
      "execution_count": 23,
      "outputs": [
        {
          "output_type": "stream",
          "name": "stdout",
          "text": [
            "              precision    recall  f1-score   support\n",
            "\n",
            "           0       0.97      0.98      0.98      1300\n",
            "           1       0.98      0.97      0.98      1300\n",
            "\n",
            "    accuracy                           0.98      2600\n",
            "   macro avg       0.98      0.98      0.98      2600\n",
            "weighted avg       0.98      0.98      0.98      2600\n",
            "\n"
          ]
        },
        {
          "output_type": "display_data",
          "data": {
            "text/plain": [
              "<Figure size 576x360 with 2 Axes>"
            ],
            "image/png": "[encoded data removed]"
          },
          "metadata": {
            "needs_background": "light"
          }
        }
      ]
    },
    {
      "cell_type": "markdown",
      "source": [
        "<b>Observation:\n",
        "The model is the best model so far, as it has predicted the majority of the classes correctly with minimum misclassifications.\n",
        "- This model showed the best results in training, and also has the best accuracy during testing."
      ],
      "metadata": {
        "id": "fUSWfd5pNAgp"
      }
    },
    {
      "cell_type": "markdown",
      "source": [
        "<b>Plotting the train and validation curves"
      ],
      "metadata": {
        "id": "kFbEHyhZFnZK"
      }
    },
    {
      "cell_type": "code",
      "source": [
        "# Function to plot train and validation accuracy \n",
        "def plot_accuracy(history):\n",
        "\n",
        "    N = len(history.history[\"accuracy\"])\n",
        "\n",
        "    plt.figure(figsize = (7, 7))\n",
        "\n",
        "    plt.plot(np.arange(0, N), history.history[\"accuracy\"], label = \"train_accuracy\", ls = '--')\n",
        "\n",
        "    plt.plot(np.arange(0, N), history.history[\"val_accuracy\"], label = \"val_accuracy\", ls = '--')\n",
        "\n",
        "    plt.title(\"Accuracy vs Epoch\")\n",
        "    \n",
        "    plt.xlabel(\"Epochs\")\n",
        "    \n",
        "    plt.ylabel(\"Accuracy\")\n",
        "    \n",
        "    plt.legend(loc=\"upper left\")"
      ],
      "metadata": {
        "id": "OS-5TXhwFoUf"
      },
      "execution_count": 24,
      "outputs": []
    },
    {
      "cell_type": "code",
      "source": [
        "plot_accuracy(history)"
      ],
      "metadata": {
        "colab": {
          "base_uri": "https://localhost:8080/",
          "height": 458
        },
        "id": "16UqNrG8FyOb",
        "outputId": "c635c37f-af86-4ac2-e6cb-f92c60158d77"
      },
      "execution_count": 25,
      "outputs": [
        {
          "output_type": "display_data",
          "data": {
            "text/plain": [
              "<Figure size 504x504 with 1 Axes>"
            ],
            "image/png": "[encoded data removed]"
          },
          "metadata": {
            "needs_background": "light"
          }
        }
      ]
    },
    {
      "cell_type": "markdown",
      "source": [
        "Observation:\n",
        "As from the result, the train and validation accuracy tend to merge as epoche increase, and both accuracy increasing, showing the model performance improving as expected."
      ],
      "metadata": {
        "id": "K_04-nmSOGgB"
      }
    }
  ]
}