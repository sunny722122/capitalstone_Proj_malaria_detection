{
  "cells": [
    {
      "cell_type": "markdown",
      "metadata": {
        "id": "view-in-github",
        "colab_type": "text"
      },
      "source": [
        "<a href=\"https://colab.research.google.com/github/sunny722122/capitalstone_Proj_malaria_detection/blob/main/Malaria_Detection.ipynb\" target=\"_parent\"><img src=\"https://colab.research.google.com/assets/colab-badge.svg\" alt=\"Open In Colab\"/></a>"
      ]
    },
    {
      "cell_type": "markdown",
      "metadata": {
        "id": "xCWpKAUyAcy2"
      },
      "source": [
        "--------------------------------------------------------------------------------------\n",
        "# **Malaria Detection**\n",
        "---------------------------------------------------------------------------------------"
      ]
    },
    {
      "cell_type": "markdown",
      "metadata": {
        "id": "_UFBtWVjAmZm"
      },
      "source": [
        "-------------------\n",
        "## **Context**\n",
        "-------------------\n",
        "\n",
        "Malaria is a contagious disease caused by Plasmodium parasites that are transmitted to humans through the bites of infected female Anopheles mosquitoes. The parasites enter the blood and begin damaging red blood cells (RBCs) that carry oxygen, which can result in respiratory distress and other complications. The lethal parasites can stay alive for more than a year in a person’s body without showing any symptoms. Therefore, late treatment can cause complications and could even be fatal. Almost 50% of the world’s population is in danger from malaria. There were more than 229 million malaria cases and 400,000 malaria-related deaths reported over the world in 2019. Children under 5 years of age are the most vulnerable population group affected by malaria; in 2019 they accounted for 67% of all malaria deaths worldwide.\n",
        "Traditional diagnosis of malaria in the laboratory requires careful inspection by an experienced professional to discriminate between healthy and infected red blood cells. It is a tedious, time-consuming process, and the diagnostic accuracy (which heavily depends on human expertise) can be adversely impacted by inter-observer variability.\n",
        "An automated system can help with the early and accurate detection of malaria. Applications of automated classification techniques using Machine Learning (ML) and Artificial Intelligence (AI) have consistently shown higher accuracy than manual classification. It would therefore be highly beneficial to propose a method that performs malaria detection using Deep Learning Algorithms.\n",
        "\n",
        "---------------------\n",
        "## **Objective**\n",
        "---------------------\n",
        "\n",
        "Build an efficient computer vision model to detect malaria. The model should identify whether the image of a red blood cell is that of one infected with malaria or not, and classify the same as parasitized or uninfected, respectively.\n",
        "\n",
        "---------------------\n",
        "## **Key questions**\n",
        "---------------------\n",
        "\n",
        "*   How to improve the diagnosis speed to get patient early treatment?\n",
        "*   How to get the dianose result more reliable and accurate?\n",
        "\n",
        "---------------------\n",
        "## **Problem Formulation**\n",
        "---------------------\n",
        "\n",
        "Need to use automation method to get the diagnosis faster and improve the accuracy\n",
        "\n",
        "-------------------\n",
        "## **Dataset**\n",
        "-------------------\n",
        "\n",
        "The dataset are colored images of red blood cells that contain parasitized and uninfected instances, where:\n",
        "● The parasitized cells contain the Plasmodium parasite\n",
        "● The uninfected cells are free of the Plasmodium parasites but could contain other impurities"
      ]
    },
    {
      "cell_type": "markdown",
      "metadata": {
        "id": "y4PH7kfLBrnw"
      },
      "source": [
        "Mount the drive\n",
        "Mounting the Google drive."
      ]
    },
    {
      "cell_type": "code",
      "execution_count": 1,
      "metadata": {
        "colab": {
          "base_uri": "https://localhost:8080/"
        },
        "id": "4v4HJJydezR9",
        "outputId": "c7cfa9b1-8eaf-4a59-bb12-ad7adb43fba9"
      },
      "outputs": [
        {
          "output_type": "stream",
          "name": "stdout",
          "text": [
            "Looking in indexes: https://pypi.org/simple, https://us-python.pkg.dev/colab-wheels/public/simple/\n",
            "Requirement already satisfied: tensorflow in /usr/local/lib/python3.7/dist-packages (2.8.2+zzzcolab20220719082949)\n",
            "Requirement already satisfied: gast>=0.2.1 in /usr/local/lib/python3.7/dist-packages (from tensorflow) (0.5.3)\n",
            "Requirement already satisfied: grpcio<2.0,>=1.24.3 in /usr/local/lib/python3.7/dist-packages (from tensorflow) (1.47.0)\n",
            "Requirement already satisfied: keras-preprocessing>=1.1.1 in /usr/local/lib/python3.7/dist-packages (from tensorflow) (1.1.2)\n",
            "Requirement already satisfied: tensorflow-io-gcs-filesystem>=0.23.1 in /usr/local/lib/python3.7/dist-packages (from tensorflow) (0.26.0)\n",
            "Requirement already satisfied: termcolor>=1.1.0 in /usr/local/lib/python3.7/dist-packages (from tensorflow) (1.1.0)\n",
            "Requirement already satisfied: libclang>=9.0.1 in /usr/local/lib/python3.7/dist-packages (from tensorflow) (14.0.1)\n",
            "Requirement already satisfied: setuptools in /usr/local/lib/python3.7/dist-packages (from tensorflow) (57.4.0)\n",
            "Requirement already satisfied: keras<2.9,>=2.8.0rc0 in /usr/local/lib/python3.7/dist-packages (from tensorflow) (2.8.0)\n",
            "Requirement already satisfied: protobuf<3.20,>=3.9.2 in /usr/local/lib/python3.7/dist-packages (from tensorflow) (3.17.3)\n",
            "Requirement already satisfied: six>=1.12.0 in /usr/local/lib/python3.7/dist-packages (from tensorflow) (1.15.0)\n",
            "Requirement already satisfied: wrapt>=1.11.0 in /usr/local/lib/python3.7/dist-packages (from tensorflow) (1.14.1)\n",
            "Requirement already satisfied: google-pasta>=0.1.1 in /usr/local/lib/python3.7/dist-packages (from tensorflow) (0.2.0)\n",
            "Requirement already satisfied: h5py>=2.9.0 in /usr/local/lib/python3.7/dist-packages (from tensorflow) (3.1.0)\n",
            "Requirement already satisfied: tensorflow-estimator<2.9,>=2.8 in /usr/local/lib/python3.7/dist-packages (from tensorflow) (2.8.0)\n",
            "Requirement already satisfied: absl-py>=0.4.0 in /usr/local/lib/python3.7/dist-packages (from tensorflow) (1.2.0)\n",
            "Requirement already satisfied: tensorboard<2.9,>=2.8 in /usr/local/lib/python3.7/dist-packages (from tensorflow) (2.8.0)\n",
            "Requirement already satisfied: astunparse>=1.6.0 in /usr/local/lib/python3.7/dist-packages (from tensorflow) (1.6.3)\n",
            "Requirement already satisfied: typing-extensions>=3.6.6 in /usr/local/lib/python3.7/dist-packages (from tensorflow) (4.1.1)\n",
            "Requirement already satisfied: flatbuffers>=1.12 in /usr/local/lib/python3.7/dist-packages (from tensorflow) (2.0)\n",
            "Requirement already satisfied: opt-einsum>=2.3.2 in /usr/local/lib/python3.7/dist-packages (from tensorflow) (3.3.0)\n",
            "Requirement already satisfied: numpy>=1.20 in /usr/local/lib/python3.7/dist-packages (from tensorflow) (1.21.6)\n",
            "Requirement already satisfied: wheel<1.0,>=0.23.0 in /usr/local/lib/python3.7/dist-packages (from astunparse>=1.6.0->tensorflow) (0.37.1)\n",
            "Requirement already satisfied: cached-property in /usr/local/lib/python3.7/dist-packages (from h5py>=2.9.0->tensorflow) (1.5.2)\n",
            "Requirement already satisfied: google-auth-oauthlib<0.5,>=0.4.1 in /usr/local/lib/python3.7/dist-packages (from tensorboard<2.9,>=2.8->tensorflow) (0.4.6)\n",
            "Requirement already satisfied: markdown>=2.6.8 in /usr/local/lib/python3.7/dist-packages (from tensorboard<2.9,>=2.8->tensorflow) (3.4.1)\n",
            "Requirement already satisfied: tensorboard-plugin-wit>=1.6.0 in /usr/local/lib/python3.7/dist-packages (from tensorboard<2.9,>=2.8->tensorflow) (1.8.1)\n",
            "Requirement already satisfied: requests<3,>=2.21.0 in /usr/local/lib/python3.7/dist-packages (from tensorboard<2.9,>=2.8->tensorflow) (2.23.0)\n",
            "Requirement already satisfied: google-auth<3,>=1.6.3 in /usr/local/lib/python3.7/dist-packages (from tensorboard<2.9,>=2.8->tensorflow) (1.35.0)\n",
            "Requirement already satisfied: werkzeug>=0.11.15 in /usr/local/lib/python3.7/dist-packages (from tensorboard<2.9,>=2.8->tensorflow) (1.0.1)\n",
            "Requirement already satisfied: tensorboard-data-server<0.7.0,>=0.6.0 in /usr/local/lib/python3.7/dist-packages (from tensorboard<2.9,>=2.8->tensorflow) (0.6.1)\n",
            "Requirement already satisfied: pyasn1-modules>=0.2.1 in /usr/local/lib/python3.7/dist-packages (from google-auth<3,>=1.6.3->tensorboard<2.9,>=2.8->tensorflow) (0.2.8)\n",
            "Requirement already satisfied: cachetools<5.0,>=2.0.0 in /usr/local/lib/python3.7/dist-packages (from google-auth<3,>=1.6.3->tensorboard<2.9,>=2.8->tensorflow) (4.2.4)\n",
            "Requirement already satisfied: rsa<5,>=3.1.4 in /usr/local/lib/python3.7/dist-packages (from google-auth<3,>=1.6.3->tensorboard<2.9,>=2.8->tensorflow) (4.9)\n",
            "Requirement already satisfied: requests-oauthlib>=0.7.0 in /usr/local/lib/python3.7/dist-packages (from google-auth-oauthlib<0.5,>=0.4.1->tensorboard<2.9,>=2.8->tensorflow) (1.3.1)\n",
            "Requirement already satisfied: importlib-metadata>=4.4 in /usr/local/lib/python3.7/dist-packages (from markdown>=2.6.8->tensorboard<2.9,>=2.8->tensorflow) (4.12.0)\n",
            "Requirement already satisfied: zipp>=0.5 in /usr/local/lib/python3.7/dist-packages (from importlib-metadata>=4.4->markdown>=2.6.8->tensorboard<2.9,>=2.8->tensorflow) (3.8.1)\n",
            "Requirement already satisfied: pyasn1<0.5.0,>=0.4.6 in /usr/local/lib/python3.7/dist-packages (from pyasn1-modules>=0.2.1->google-auth<3,>=1.6.3->tensorboard<2.9,>=2.8->tensorflow) (0.4.8)\n",
            "Requirement already satisfied: certifi>=2017.4.17 in /usr/local/lib/python3.7/dist-packages (from requests<3,>=2.21.0->tensorboard<2.9,>=2.8->tensorflow) (2022.6.15)\n",
            "Requirement already satisfied: urllib3!=1.25.0,!=1.25.1,<1.26,>=1.21.1 in /usr/local/lib/python3.7/dist-packages (from requests<3,>=2.21.0->tensorboard<2.9,>=2.8->tensorflow) (1.24.3)\n",
            "Requirement already satisfied: chardet<4,>=3.0.2 in /usr/local/lib/python3.7/dist-packages (from requests<3,>=2.21.0->tensorboard<2.9,>=2.8->tensorflow) (3.0.4)\n",
            "Requirement already satisfied: idna<3,>=2.5 in /usr/local/lib/python3.7/dist-packages (from requests<3,>=2.21.0->tensorboard<2.9,>=2.8->tensorflow) (2.10)\n",
            "Requirement already satisfied: oauthlib>=3.0.0 in /usr/local/lib/python3.7/dist-packages (from requests-oauthlib>=0.7.0->google-auth-oauthlib<0.5,>=0.4.1->tensorboard<2.9,>=2.8->tensorflow) (3.2.0)\n"
          ]
        }
      ],
      "source": [
        "!pip install tensorflow"
      ]
    },
    {
      "cell_type": "code",
      "execution_count": 2,
      "metadata": {
        "colab": {
          "base_uri": "https://localhost:8080/"
        },
        "id": "CdkUvajieehF",
        "outputId": "7b148536-9fec-4275-eb9e-e0496ee4edf2"
      },
      "outputs": [
        {
          "output_type": "stream",
          "name": "stdout",
          "text": [
            "Looking in indexes: https://pypi.org/simple, https://us-python.pkg.dev/colab-wheels/public/simple/\n",
            "Collecting tensorflow_addons\n",
            "  Downloading tensorflow_addons-0.17.1-cp37-cp37m-manylinux_2_17_x86_64.manylinux2014_x86_64.whl (1.1 MB)\n",
            "\u001b[K     |████████████████████████████████| 1.1 MB 5.0 MB/s \n",
            "\u001b[?25hRequirement already satisfied: typeguard>=2.7 in /usr/local/lib/python3.7/dist-packages (from tensorflow_addons) (2.7.1)\n",
            "Requirement already satisfied: packaging in /usr/local/lib/python3.7/dist-packages (from tensorflow_addons) (21.3)\n",
            "Requirement already satisfied: pyparsing!=3.0.5,>=2.0.2 in /usr/local/lib/python3.7/dist-packages (from packaging->tensorflow_addons) (3.0.9)\n",
            "Installing collected packages: tensorflow-addons\n",
            "Successfully installed tensorflow-addons-0.17.1\n"
          ]
        }
      ],
      "source": [
        "!pip install tensorflow_addons"
      ]
    },
    {
      "cell_type": "code",
      "execution_count": 3,
      "metadata": {
        "colab": {
          "base_uri": "https://localhost:8080/"
        },
        "id": "wd4gCLq5AAGo",
        "outputId": "c26352cb-8b0e-4360-b04b-e60fe7f8a4e9"
      },
      "outputs": [
        {
          "output_type": "stream",
          "name": "stdout",
          "text": [
            "Mounted at /content/drive\n"
          ]
        }
      ],
      "source": [
        "from google.colab import drive\n",
        "\n",
        "drive.mount('/content/drive')"
      ]
    },
    {
      "cell_type": "markdown",
      "metadata": {
        "id": "QorUb6uQBzR0"
      },
      "source": [
        "Importing the necessary libraries"
      ]
    },
    {
      "cell_type": "code",
      "execution_count": 4,
      "metadata": {
        "id": "AokeMnhVBjKD"
      },
      "outputs": [],
      "source": [
        "import numpy as np\n",
        "\n",
        "import pandas as pd\n",
        "\n",
        "import matplotlib.pyplot as plt\n",
        "\n",
        "import seaborn as sns\n",
        "\n",
        "from sklearn.model_selection import train_test_split\n",
        "\n",
        "from sklearn.preprocessing import MinMaxScaler\n",
        "\n",
        "import tensorflow as tf\n",
        "\n",
        "from tensorflow.keras.models import Sequential\n",
        "from tensorflow.keras import layers\n",
        "import tensorflow_addons as tfa\n",
        "from tensorflow.keras.layers import Dense, Conv2D, MaxPool2D, BatchNormalization, Dropout, Flatten, LeakyReLU\n",
        "\n",
        "from tensorflow.keras.losses import categorical_crossentropy\n",
        "\n",
        "from tensorflow.keras.optimizers import Adam\n",
        "\n",
        "from tensorflow.keras.utils import to_categorical"
      ]
    },
    {
      "cell_type": "markdown",
      "metadata": {
        "id": "SpDnLKrzCGKQ"
      },
      "source": [
        "check the version of tensorflow."
      ]
    },
    {
      "cell_type": "code",
      "execution_count": 5,
      "metadata": {
        "colab": {
          "base_uri": "https://localhost:8080/"
        },
        "id": "ArbY_dhGCHBn",
        "outputId": "c69ff2b3-4c43-466e-fb01-bee4da3ccf78"
      },
      "outputs": [
        {
          "output_type": "stream",
          "name": "stdout",
          "text": [
            "2.8.2\n"
          ]
        }
      ],
      "source": [
        "print(tf.__version__)"
      ]
    },
    {
      "cell_type": "markdown",
      "metadata": {
        "id": "Y6RGy1zSCVZG"
      },
      "source": [
        "## **Load the dataset**\n",
        "\n",
        "- Let us now load the dataset that is available as a .zip file.\n",
        "- Split the data into the train and the test dataset."
      ]
    },
    {
      "cell_type": "code",
      "execution_count": 6,
      "metadata": {
        "id": "ZoNUlH5aF0oO"
      },
      "outputs": [],
      "source": [
        "import matplotlib.pyplot as plt\n",
        "import numpy as np\n",
        "import pandas as pd\n",
        "import seaborn as sns\n",
        "import os\n",
        "import zipfile\n",
        "from PIL import Image\n",
        "\n",
        "# Importing Deep Learning Libraries\n",
        "\n",
        "from tensorflow.keras.utils import load_img, img_to_array\n",
        "from tensorflow.keras.preprocessing.image import ImageDataGenerator\n",
        "from tensorflow.keras.layers import Dense, Input, Dropout, GlobalAveragePooling2D, Flatten, Conv2D, BatchNormalization, Activation, MaxPooling2D\n",
        "from tensorflow.keras.models import Model, Sequential\n",
        "from tensorflow.keras.optimizers import Adam, SGD, RMSprop\n",
        "\n",
        "import imghdr\n",
        "file_name='/content/drive/MyDrive/cell_images.zip'\n",
        "with zipfile.ZipFile(file_name, 'r') as zip:\n",
        "  zip.extractall()"
      ]
    },
    {
      "cell_type": "code",
      "execution_count": 7,
      "metadata": {
        "id": "nPaHu_z4I6-C"
      },
      "outputs": [],
      "source": [
        "picture_size = 48\n",
        "channels=3\n",
        "folder_path = \"cell_images/\""
      ]
    },
    {
      "cell_type": "markdown",
      "metadata": {
        "id": "FKGvEQv4HYbG"
      },
      "source": [
        "## **Visualizing Malaria showing parasitized**\n",
        "\n",
        "First, Visualizing Malaria images that exhibit the parasitized."
      ]
    },
    {
      "cell_type": "code",
      "execution_count": 8,
      "metadata": {
        "colab": {
          "base_uri": "https://localhost:8080/",
          "height": 702
        },
        "id": "yJRNgwQZOPro",
        "outputId": "7ccac701-7291-4312-aba7-a31618bb3afe"
      },
      "outputs": [
        {
          "output_type": "display_data",
          "data": {
            "text/plain": [
              "<Figure size 864x864 with 9 Axes>"
            ],
            "image/png": "[encoded data removed]"
          },
          "metadata": {
            "needs_background": "light"
          }
        }
      ],
      "source": [
        "malaria_presence = 'parasitized'\n",
        "\n",
        "# The following code plots the first nine images in the folder 'yes'.\n",
        "plt.figure(figsize = (12, 12)) \n",
        "\n",
        "for i in range(1, 10, 1):\n",
        "    plt.subplot(3, 3, i)\n",
        "    img = load_img(folder_path +'train/' + malaria_presence + \"/\" +\n",
        "                  os.listdir(folder_path + 'train/' + malaria_presence)[i],target_size = (picture_size, picture_size))\n",
        "    plt.imshow(img)   \n",
        "\n",
        "plt.show()"
      ]
    },
    {
      "cell_type": "markdown",
      "metadata": {
        "id": "8OsShFcZIOuA"
      },
      "source": [
        "## **Visualizing Malaria images without infections**\n",
        "\n",
        "Then let's see what the cell images that healthy look like."
      ]
    },
    {
      "cell_type": "code",
      "execution_count": 9,
      "metadata": {
        "colab": {
          "base_uri": "https://localhost:8080/",
          "height": 702
        },
        "id": "qPuss48JQgCS",
        "outputId": "0e3551dd-a5c5-4fbd-9c44-56f7386d53b4"
      },
      "outputs": [
        {
          "output_type": "display_data",
          "data": {
            "text/plain": [
              "<Figure size 864x864 with 9 Axes>"
            ],
            "image/png": "[encoded data removed]"
          },
          "metadata": {
            "needs_background": "light"
          }
        }
      ],
      "source": [
        "malaria_presence = 'uninfected'\n",
        "\n",
        "# The following code plots the first nine images in the folder 'no'.\n",
        "plt.figure(figsize = (12, 12))\n",
        "\n",
        "for i in range(1, 10, 1):\n",
        "    plt.subplot(3, 3, i)\n",
        "    img = load_img(folder_path + 'train/' + malaria_presence + \"/\" +\n",
        "                  os.listdir(folder_path + 'train/' + malaria_presence)[i],target_size = (picture_size, picture_size))\n",
        "    plt.imshow(img)   \n",
        "\n",
        "plt.show()"
      ]
    },
    {
      "cell_type": "markdown",
      "metadata": {
        "id": "in2cnyvcITya"
      },
      "source": [
        "**Observations:**\n",
        "\n",
        "- The cell images that have parasitized have patches (purple or blue) of varying sizes and they are present at different locations within the cross-sectional view of the cell.\n",
        "- The cell images of healthy show no such patches."
      ]
    },
    {
      "cell_type": "markdown",
      "metadata": {
        "id": "bZItsHT1JnJl"
      },
      "source": [
        "## **Creating Training and Testing Image Data Generators**"
      ]
    },
    {
      "cell_type": "markdown",
      "metadata": {
        "id": "JnDcTZurJofh"
      },
      "source": [
        "Let's create data loaders to pass to the neural network architectures. We will let the train, and test data loaders take the images from their respective folders."
      ]
    },
    {
      "cell_type": "code",
      "execution_count": 10,
      "metadata": {
        "colab": {
          "base_uri": "https://localhost:8080/"
        },
        "id": "jSfJToHbFyZ5",
        "outputId": "ddff2f1f-42a7-4fbe-8e33-10b8fabc4ac3"
      },
      "outputs": [
        {
          "output_type": "stream",
          "name": "stdout",
          "text": [
            "Found 19967 images belonging to 2 classes.\n",
            "Found 4991 images belonging to 2 classes.\n",
            "Found 2600 images belonging to 2 classes.\n"
          ]
        }
      ],
      "source": [
        "batch_size=128\n",
        "\n",
        "datagen_train = ImageDataGenerator(rescale=1./255,\n",
        "    shear_range=0.2,\n",
        "    zoom_range=0.2,\n",
        "    horizontal_flip=True,\n",
        "    validation_split=0.2)\n",
        "datagen_test = ImageDataGenerator(rescale=1./255,\n",
        "    shear_range=0.2,\n",
        "    zoom_range=0.2,\n",
        "    horizontal_flip=True)\n",
        "\n",
        "train_set = datagen_train.flow_from_directory(folder_path + 'train/',\n",
        "                                              target_size = (picture_size, picture_size),\n",
        "                                              color_mode = 'rgb',\n",
        "                                              batch_size = batch_size,\n",
        "                                              class_mode = 'categorical',\n",
        "                                              classes = ['parasitized', 'uninfected'],\n",
        "                                              shuffle = True,\n",
        "                                              subset='training')\n",
        "validation_set = datagen_train.flow_from_directory(folder_path + 'train/',\n",
        "                                              target_size = (picture_size, picture_size),\n",
        "                                              color_mode = 'rgb',\n",
        "                                              batch_size = batch_size,\n",
        "                                              class_mode = 'categorical',\n",
        "                                              classes = ['parasitized', 'uninfected'],\n",
        "                                              shuffle = True,\n",
        "                                              subset='validation')\n",
        "test_set = datagen_test.flow_from_directory(folder_path + 'test/',\n",
        "                                            target_size = (picture_size, picture_size),\n",
        "                                            color_mode = 'rgb',\n",
        "                                            batch_size = batch_size,\n",
        "                                            class_mode = 'categorical',\n",
        "                                            classes = ['parasitized', 'uninfected'],\n",
        "                                            shuffle = True)"
      ]
    },
    {
      "cell_type": "markdown",
      "metadata": {
        "id": "4bdGe63PQDTb"
      },
      "source": [
        "check data imbalance?"
      ]
    },
    {
      "cell_type": "markdown",
      "metadata": {
        "id": "ZuddWAxPQGSy"
      },
      "source": [
        "### **Convolutional Neural Network (CNN)**\n",
        "\n",
        "Let's create a CNN model and see if we get better accuracy than the ANN model."
      ]
    },
    {
      "cell_type": "code",
      "execution_count": 9,
      "metadata": {
        "colab": {
          "base_uri": "https://localhost:8080/"
        },
        "id": "07slIlJiAHrT",
        "outputId": "d1509911-0736-48d0-bc0f-551bee063d7a"
      },
      "outputs": [
        {
          "output_type": "stream",
          "name": "stdout",
          "text": [
            "Model: \"sequential\"\n",
            "_________________________________________________________________\n",
            " Layer (type)                Output Shape              Param #   \n",
            "=================================================================\n",
            " conv2d (Conv2D)             (None, 46, 46, 16)        448       \n",
            "                                                                 \n",
            " max_pooling2d (MaxPooling2D  (None, 23, 23, 16)       0         \n",
            " )                                                               \n",
            "                                                                 \n",
            " conv2d_1 (Conv2D)           (None, 21, 21, 32)        4640      \n",
            "                                                                 \n",
            " max_pooling2d_1 (MaxPooling  (None, 10, 10, 32)       0         \n",
            " 2D)                                                             \n",
            "                                                                 \n",
            " flatten (Flatten)           (None, 3200)              0         \n",
            "                                                                 \n",
            " dense (Dense)               (None, 128)               409728    \n",
            "                                                                 \n",
            " dense_1 (Dense)             (None, 2)                 258       \n",
            "                                                                 \n",
            "=================================================================\n",
            "Total params: 415,074\n",
            "Trainable params: 415,074\n",
            "Non-trainable params: 0\n",
            "_________________________________________________________________\n"
          ]
        }
      ],
      "source": [
        "model1 = Sequential()\n",
        "\n",
        "# First Convolutional block\n",
        "model1.add(Conv2D(16, (3, 3), activation = 'relu', input_shape = (picture_size, picture_size, channels)))\n",
        "model1.add(MaxPooling2D(2, 2))\n",
        "\n",
        "# Second Convolutional block\n",
        "model1.add(Conv2D(32, (3, 3), activation = 'relu'))\n",
        "model1.add(MaxPooling2D(2, 2))\n",
        "\n",
        "# Flattening layer\n",
        "model1.add(Flatten())\n",
        "\n",
        "# Fully Connected layer\n",
        "model1.add(Dense(128, activation = 'relu'))\n",
        "\n",
        "# Classifier\n",
        "model1.add(Dense(2, activation = 'sigmoid'))\n",
        "\n",
        "# Adam optimizer with 0.0001 learning rate\n",
        "adam = Adam(0.0001)\n",
        "\n",
        "# Compiling the model\n",
        "model1.compile(loss = \"categorical_crossentropy\", optimizer = adam, metrics = ['accuracy'])\n",
        "\n",
        "# Model summary\n",
        "model1.summary()"
      ]
    },
    {
      "cell_type": "code",
      "execution_count": null,
      "metadata": {
        "colab": {
          "background_save": true,
          "base_uri": "https://localhost:8080/"
        },
        "id": "IG2_NC1jT6bd",
        "outputId": "ffabd5bf-a96d-4e4a-e181-d8fc895766ff"
      },
      "outputs": [
        {
          "name": "stdout",
          "output_type": "stream",
          "text": [
            "Epoch 1/30\n",
            "155/155 [==============================] - 66s 414ms/step - loss: 0.6609 - accuracy: 0.5971 - val_loss: 0.6915 - val_accuracy: 0.5177\n",
            "Epoch 2/30\n",
            "155/155 [==============================] - 64s 414ms/step - loss: 0.6228 - accuracy: 0.6581 - val_loss: 0.6193 - val_accuracy: 0.6726\n",
            "Epoch 3/30\n",
            "155/155 [==============================] - 64s 412ms/step - loss: 0.6060 - accuracy: 0.6752 - val_loss: 0.6516 - val_accuracy: 0.5730\n",
            "Epoch 4/30\n",
            "155/155 [==============================] - 63s 407ms/step - loss: 0.5941 - accuracy: 0.6873 - val_loss: 0.6279 - val_accuracy: 0.6177\n",
            "Epoch 5/30\n",
            "155/155 [==============================] - 63s 407ms/step - loss: 0.5832 - accuracy: 0.6934 - val_loss: 0.6180 - val_accuracy: 0.6315\n",
            "Epoch 6/30\n",
            "155/155 [==============================] - 63s 405ms/step - loss: 0.5680 - accuracy: 0.7104 - val_loss: 0.5780 - val_accuracy: 0.7151\n",
            "Epoch 7/30\n",
            "155/155 [==============================] - 64s 410ms/step - loss: 0.5514 - accuracy: 0.7277 - val_loss: 0.6297 - val_accuracy: 0.6069\n",
            "Epoch 8/30\n",
            "155/155 [==============================] - 63s 408ms/step - loss: 0.5376 - accuracy: 0.7368 - val_loss: 0.5315 - val_accuracy: 0.7618\n",
            "Epoch 9/30\n",
            "155/155 [==============================] - 63s 407ms/step - loss: 0.5215 - accuracy: 0.7492 - val_loss: 0.5309 - val_accuracy: 0.7642\n",
            "Epoch 10/30\n",
            "155/155 [==============================] - 63s 407ms/step - loss: 0.5030 - accuracy: 0.7608 - val_loss: 0.5010 - val_accuracy: 0.7828\n",
            "Epoch 11/30\n",
            "155/155 [==============================] - 64s 411ms/step - loss: 0.4853 - accuracy: 0.7755 - val_loss: 0.4806 - val_accuracy: 0.7914\n",
            "Epoch 12/30\n",
            "155/155 [==============================] - 63s 408ms/step - loss: 0.4707 - accuracy: 0.7824 - val_loss: 0.4733 - val_accuracy: 0.7932\n",
            "Epoch 13/30\n",
            "155/155 [==============================] - 63s 406ms/step - loss: 0.4498 - accuracy: 0.7945 - val_loss: 0.5208 - val_accuracy: 0.7239\n",
            "Epoch 14/30\n",
            "155/155 [==============================] - 64s 415ms/step - loss: 0.4355 - accuracy: 0.8026 - val_loss: 0.4371 - val_accuracy: 0.7978\n",
            "Epoch 15/30\n",
            "155/155 [==============================] - 62s 401ms/step - loss: 0.4174 - accuracy: 0.8152 - val_loss: 0.4220 - val_accuracy: 0.8267\n",
            "Epoch 16/30\n",
            "155/155 [==============================] - 62s 402ms/step - loss: 0.4115 - accuracy: 0.8124 - val_loss: 0.4528 - val_accuracy: 0.7804\n",
            "Epoch 17/30\n",
            "155/155 [==============================] - 62s 401ms/step - loss: 0.3947 - accuracy: 0.8261 - val_loss: 0.5063 - val_accuracy: 0.7207\n",
            "Epoch 18/30\n",
            "155/155 [==============================] - 62s 400ms/step - loss: 0.3766 - accuracy: 0.8365 - val_loss: 0.4453 - val_accuracy: 0.7836\n",
            "Epoch 19/30\n",
            "155/155 [==============================] - 62s 401ms/step - loss: 0.3653 - accuracy: 0.8432 - val_loss: 0.3655 - val_accuracy: 0.8449\n",
            "Epoch 20/30\n",
            "155/155 [==============================] - 62s 401ms/step - loss: 0.3541 - accuracy: 0.8474 - val_loss: 0.3842 - val_accuracy: 0.8495\n",
            "Epoch 21/30\n",
            "155/155 [==============================] - 62s 400ms/step - loss: 0.3396 - accuracy: 0.8569 - val_loss: 0.3452 - val_accuracy: 0.8650\n",
            "Epoch 22/30\n",
            "155/155 [==============================] - 62s 400ms/step - loss: 0.3258 - accuracy: 0.8666 - val_loss: 0.3353 - val_accuracy: 0.8698\n",
            "Epoch 23/30\n",
            "155/155 [==============================] - 62s 400ms/step - loss: 0.3167 - accuracy: 0.8705 - val_loss: 0.3269 - val_accuracy: 0.8660\n",
            "Epoch 24/30\n",
            "155/155 [==============================] - 62s 400ms/step - loss: 0.3198 - accuracy: 0.8653 - val_loss: 0.3112 - val_accuracy: 0.8722\n",
            "Epoch 25/30\n",
            "155/155 [==============================] - 63s 404ms/step - loss: 0.3026 - accuracy: 0.8790 - val_loss: 0.3096 - val_accuracy: 0.8786\n",
            "Epoch 26/30\n",
            "155/155 [==============================] - 62s 402ms/step - loss: 0.2922 - accuracy: 0.8852 - val_loss: 0.3207 - val_accuracy: 0.8537\n",
            "Epoch 27/30\n",
            "155/155 [==============================] - 63s 403ms/step - loss: 0.2833 - accuracy: 0.8878 - val_loss: 0.2875 - val_accuracy: 0.8788\n",
            "Epoch 28/30\n",
            "155/155 [==============================] - 63s 407ms/step - loss: 0.2785 - accuracy: 0.8916 - val_loss: 0.2834 - val_accuracy: 0.8810\n",
            "Epoch 29/30\n",
            "155/155 [==============================] - 64s 410ms/step - loss: 0.2744 - accuracy: 0.8928 - val_loss: 0.3302 - val_accuracy: 0.8738\n",
            "Epoch 30/30\n",
            "155/155 [==============================] - 63s 407ms/step - loss: 0.2704 - accuracy: 0.8927 - val_loss: 0.2862 - val_accuracy: 0.8908\n"
          ]
        }
      ],
      "source": [
        "# Fitting the model\n",
        "history1 = model1.fit(train_set,\n",
        "                         steps_per_epoch = train_set.n//train_set.batch_size,\n",
        "                         epochs = 30,\n",
        "                         validation_data = validation_set\n",
        "                        )"
      ]
    },
    {
      "cell_type": "code",
      "execution_count": null,
      "metadata": {
        "colab": {
          "background_save": true
        },
        "id": "16i3-mQdETxq",
        "outputId": "ca849330-d968-4324-867f-c8a645897a7a"
      },
      "outputs": [
        {
          "data": {
            "image/png": "[encoded data removed]",
            "text/plain": [
              "<Figure size 432x288 with 1 Axes>"
            ]
          },
          "metadata": {},
          "output_type": "display_data"
        }
      ],
      "source": [
        "# Plotting training and validation accuracies with the number of epochs on the X-axis \n",
        "plt.plot(history1.history['accuracy'])\n",
        "\n",
        "plt.plot(history1.history['val_accuracy'])\n",
        "\n",
        "plt.title('Model Accuracy')\n",
        "\n",
        "plt.ylabel('Accuracy')\n",
        "\n",
        "plt.xlabel('Epoch')\n",
        "\n",
        "plt.legend(['Train', 'Validation'], loc = 'upper left')\n",
        "\n",
        "plt.show()"
      ]
    },
    {
      "cell_type": "markdown",
      "metadata": {
        "id": "Yy1I-OH0a2mr"
      },
      "source": [
        "**Observations:**\n",
        "\n",
        "- Both the train and validation accuracies have kept improving slowly as epoche increasing.\n",
        "- After 30 epochs, the training accuracy is about 91% and the validation accuracy is about 90%.\n",
        "- We can further try to increase the model accuracy as even small errors can prove to be very costly in the field of medical research.\n",
        "- We observe from the above graph that both train and validation accuracies are displaying an upward trend against the number of epochs. This shows that the model performance can improve further if we increase the model complexity or by training the model for more number of epochs. "
      ]
    },
    {
      "cell_type": "code",
      "source": [
        "pred_test = model1.predict(test_set)\n",
        "\n"
      ],
      "metadata": {
        "id": "NMnJFbSPo4Kg"
      },
      "execution_count": null,
      "outputs": []
    },
    {
      "cell_type": "code",
      "execution_count": 11,
      "metadata": {
        "colab": {
          "base_uri": "https://localhost:8080/"
        },
        "id": "yUsF58ZPQcAS",
        "outputId": "14d139e0-8c0c-4ef8-a077-a80fab5cbac0"
      },
      "outputs": [
        {
          "output_type": "stream",
          "name": "stdout",
          "text": [
            "Model: \"sequential\"\n",
            "_________________________________________________________________\n",
            " Layer (type)                Output Shape              Param #   \n",
            "=================================================================\n",
            " conv2d (Conv2D)             (None, 48, 48, 64)        1792      \n",
            "                                                                 \n",
            " activation (Activation)     (None, 48, 48, 64)        0         \n",
            "                                                                 \n",
            " max_pooling2d (MaxPooling2D  (None, 24, 24, 64)       0         \n",
            " )                                                               \n",
            "                                                                 \n",
            " conv2d_1 (Conv2D)           (None, 24, 24, 128)       204928    \n",
            "                                                                 \n",
            " activation_1 (Activation)   (None, 24, 24, 128)       0         \n",
            "                                                                 \n",
            " max_pooling2d_1 (MaxPooling  (None, 12, 12, 128)      0         \n",
            " 2D)                                                             \n",
            "                                                                 \n",
            " conv2d_2 (Conv2D)           (None, 12, 12, 512)       1638912   \n",
            "                                                                 \n",
            " activation_2 (Activation)   (None, 12, 12, 512)       0         \n",
            "                                                                 \n",
            " max_pooling2d_2 (MaxPooling  (None, 6, 6, 512)        0         \n",
            " 2D)                                                             \n",
            "                                                                 \n",
            " conv2d_3 (Conv2D)           (None, 6, 6, 512)         6554112   \n",
            "                                                                 \n",
            " activation_3 (Activation)   (None, 6, 6, 512)         0         \n",
            "                                                                 \n",
            " max_pooling2d_3 (MaxPooling  (None, 3, 3, 512)        0         \n",
            " 2D)                                                             \n",
            "                                                                 \n",
            " flatten (Flatten)           (None, 4608)              0         \n",
            "                                                                 \n",
            " dense (Dense)               (None, 256)               1179904   \n",
            "                                                                 \n",
            " activation_4 (Activation)   (None, 256)               0         \n",
            "                                                                 \n",
            " dense_1 (Dense)             (None, 512)               131584    \n",
            "                                                                 \n",
            " activation_5 (Activation)   (None, 512)               0         \n",
            "                                                                 \n",
            " dense_2 (Dense)             (None, 2)                 1026      \n",
            "                                                                 \n",
            "=================================================================\n",
            "Total params: 9,712,258\n",
            "Trainable params: 9,712,258\n",
            "Non-trainable params: 0\n",
            "_________________________________________________________________\n"
          ]
        }
      ],
      "source": [
        "model_cnn = Sequential()\n",
        "\n",
        "# First CNN block\n",
        "model_cnn.add(Conv2D(64, (3, 3), padding = 'same', input_shape = (picture_size, picture_size, channels)))\n",
        "model_cnn.add(Activation('relu'))\n",
        "model_cnn.add(MaxPooling2D(pool_size = (2, 2))) \n",
        "\n",
        "# Second CNN block\n",
        "model_cnn.add(Conv2D(128, (5, 5), padding = 'same'))\n",
        "model_cnn.add(Activation('relu'))\n",
        "model_cnn.add(MaxPooling2D(pool_size = (2, 2)))\n",
        "\n",
        "# Third CNN block\n",
        "model_cnn.add(Conv2D(512, (5, 5), padding = 'same'))\n",
        "model_cnn.add(Activation('relu'))\n",
        "model_cnn.add(MaxPooling2D(pool_size = (2, 2)))\n",
        "\n",
        "# Fourth CNN block\n",
        "model_cnn.add(Conv2D(512, (5, 5), padding = 'same'))\n",
        "model_cnn.add(Activation('relu'))\n",
        "model_cnn.add(MaxPooling2D(pool_size = (2, 2)))\n",
        "\n",
        "# Flattening layer\n",
        "model_cnn.add(Flatten())\n",
        "\n",
        "# First fully connected layer\n",
        "model_cnn.add(Dense(256))\n",
        "model_cnn.add(Activation('relu'))\n",
        "\n",
        "# Seconf fully connected layer\n",
        "model_cnn.add(Dense(512))\n",
        "model_cnn.add(Activation('relu'))\n",
        "\n",
        "# Classifier\n",
        "model_cnn.add(Dense(2, activation = 'softmax'))\n",
        "\n",
        "# Adam optimizer with 0.0001 learning rate\n",
        "opt = Adam(learning_rate = 0.0001)\n",
        "\n",
        "# Compiling the model\n",
        "model_cnn.compile(optimizer = opt, loss = 'categorical_crossentropy', metrics = ['accuracy'])\n",
        "\n",
        "# Model summary\n",
        "model_cnn.summary()"
      ]
    },
    {
      "cell_type": "code",
      "execution_count": 12,
      "metadata": {
        "colab": {
          "base_uri": "https://localhost:8080/"
        },
        "id": "i4_Hzy5IEEzu",
        "outputId": "43c93e8c-f5f4-4ccb-d096-6189c236fea4"
      },
      "outputs": [
        {
          "output_type": "stream",
          "name": "stdout",
          "text": [
            "Epoch 1/20\n",
            "155/155 [==============================] - 268s 2s/step - loss: 0.6070 - accuracy: 0.6578 - val_loss: 0.5323 - val_accuracy: 0.7339\n",
            "Epoch 2/20\n",
            "155/155 [==============================] - 256s 2s/step - loss: 0.3102 - accuracy: 0.8659 - val_loss: 0.1875 - val_accuracy: 0.9197\n",
            "Epoch 3/20\n",
            "155/155 [==============================] - 237s 2s/step - loss: 0.1302 - accuracy: 0.9533 - val_loss: 0.1298 - val_accuracy: 0.9477\n",
            "Epoch 4/20\n",
            "155/155 [==============================] - 230s 1s/step - loss: 0.1088 - accuracy: 0.9633 - val_loss: 0.1107 - val_accuracy: 0.9599\n",
            "Epoch 5/20\n",
            "155/155 [==============================] - 216s 1s/step - loss: 0.0859 - accuracy: 0.9711 - val_loss: 0.1070 - val_accuracy: 0.9621\n",
            "Epoch 6/20\n",
            "155/155 [==============================] - 210s 1s/step - loss: 0.0792 - accuracy: 0.9746 - val_loss: 0.1013 - val_accuracy: 0.9691\n",
            "Epoch 7/20\n",
            "155/155 [==============================] - 208s 1s/step - loss: 0.0734 - accuracy: 0.9754 - val_loss: 0.1024 - val_accuracy: 0.9645\n",
            "Epoch 8/20\n",
            "155/155 [==============================] - 205s 1s/step - loss: 0.0684 - accuracy: 0.9780 - val_loss: 0.0855 - val_accuracy: 0.9711\n",
            "Epoch 9/20\n",
            "155/155 [==============================] - 205s 1s/step - loss: 0.0668 - accuracy: 0.9784 - val_loss: 0.0741 - val_accuracy: 0.9732\n",
            "Epoch 10/20\n",
            "155/155 [==============================] - 201s 1s/step - loss: 0.0631 - accuracy: 0.9782 - val_loss: 0.0658 - val_accuracy: 0.9766\n",
            "Epoch 11/20\n",
            "155/155 [==============================] - 200s 1s/step - loss: 0.0617 - accuracy: 0.9794 - val_loss: 0.0622 - val_accuracy: 0.9776\n",
            "Epoch 12/20\n",
            "155/155 [==============================] - 196s 1s/step - loss: 0.0605 - accuracy: 0.9786 - val_loss: 0.0660 - val_accuracy: 0.9764\n",
            "Epoch 13/20\n",
            "155/155 [==============================] - 214s 1s/step - loss: 0.0589 - accuracy: 0.9795 - val_loss: 0.0695 - val_accuracy: 0.9738\n",
            "Epoch 14/20\n",
            "155/155 [==============================] - 228s 1s/step - loss: 0.0560 - accuracy: 0.9805 - val_loss: 0.0653 - val_accuracy: 0.9772\n",
            "Epoch 15/20\n",
            "155/155 [==============================] - 209s 1s/step - loss: 0.0561 - accuracy: 0.9812 - val_loss: 0.0597 - val_accuracy: 0.9786\n",
            "Epoch 16/20\n",
            "155/155 [==============================] - 194s 1s/step - loss: 0.0533 - accuracy: 0.9816 - val_loss: 0.0658 - val_accuracy: 0.9758\n",
            "Epoch 17/20\n",
            "155/155 [==============================] - 188s 1s/step - loss: 0.0551 - accuracy: 0.9812 - val_loss: 0.0637 - val_accuracy: 0.9764\n",
            "Epoch 18/20\n",
            "155/155 [==============================] - 198s 1s/step - loss: 0.0531 - accuracy: 0.9810 - val_loss: 0.0584 - val_accuracy: 0.9786\n",
            "Epoch 19/20\n",
            "155/155 [==============================] - 193s 1s/step - loss: 0.0517 - accuracy: 0.9823 - val_loss: 0.0633 - val_accuracy: 0.9774\n",
            "Epoch 20/20\n",
            "155/155 [==============================] - 195s 1s/step - loss: 0.0524 - accuracy: 0.9816 - val_loss: 0.0552 - val_accuracy: 0.9784\n"
          ]
        }
      ],
      "source": [
        "# Fitting the model\n",
        "history2 = model_cnn.fit(train_set,\n",
        "                         steps_per_epoch = train_set.n//train_set.batch_size,\n",
        "                         epochs = 20,\n",
        "                         validation_data = validation_set\n",
        "                        )"
      ]
    },
    {
      "cell_type": "code",
      "execution_count": 13,
      "metadata": {
        "id": "4ndPGtJBeGvQ",
        "colab": {
          "base_uri": "https://localhost:8080/",
          "height": 295
        },
        "outputId": "e5e15613-036f-4e3f-a3ae-b1f9132e85e0"
      },
      "outputs": [
        {
          "output_type": "display_data",
          "data": {
            "text/plain": [
              "<Figure size 432x288 with 1 Axes>"
            ],
            "image/png": "[encoded data removed]"
          },
          "metadata": {
            "needs_background": "light"
          }
        }
      ],
      "source": [
        "# Plotting training and validation accuracies with the number of epochs on the X-axis \n",
        "plt.plot(history2.history['accuracy'])\n",
        "\n",
        "plt.plot(history2.history['val_accuracy'])\n",
        "\n",
        "plt.title('Model Accuracy')\n",
        "\n",
        "plt.ylabel('Accuracy')\n",
        "\n",
        "plt.xlabel('Epoch')\n",
        "\n",
        "plt.legend(['Train', 'Validation'], loc = 'upper left')\n",
        "\n",
        "plt.show()"
      ]
    },
    {
      "cell_type": "markdown",
      "metadata": {
        "id": "D5o3BzAVeFrw"
      },
      "source": [
        "**Observations:**\n",
        "\n",
        "- The performance of this model is higher in comparison to the performance of previous models. We can see that we have received training and validation accuracies over 99%.\n",
        "- The similar training and validation accuracies show that model is not overfitting the training data.\n",
        "- The possible reason for such improvement is likely the higher number of trainable parameters. As suspected, the earlier models were not complex enough (less number of parameters) to have their weights adjust appropriately to identify the patterns in the images. Hence, we are choosing this model as the final model."
      ]
    },
    {
      "cell_type": "markdown",
      "source": [
        "### **Evaluating Model Performance on the Test data**"
      ],
      "metadata": {
        "id": "02rhdjicrPed"
      }
    },
    {
      "cell_type": "code",
      "source": [
        "test_images, test_labels = next(test_set)\n",
        "accuracy = model_cnn.evaluate(test_images, test_labels, verbose = 1)\n",
        "print('\\n', 'Test_Accuracy:-', accuracy[1])"
      ],
      "metadata": {
        "colab": {
          "base_uri": "https://localhost:8080/"
        },
        "id": "8tuvLtUGrT-f",
        "outputId": "9215266f-ebc0-44a4-8440-26f1c649b449"
      },
      "execution_count": 14,
      "outputs": [
        {
          "output_type": "stream",
          "name": "stdout",
          "text": [
            "4/4 [==============================] - 0s 51ms/step - loss: 0.0973 - accuracy: 0.9609\n",
            "\n",
            " Test_Accuracy:- 0.9609375\n"
          ]
        }
      ]
    },
    {
      "cell_type": "markdown",
      "source": [
        "**Observations:**"
      ],
      "metadata": {
        "id": "PvY76WjBrco2"
      }
    },
    {
      "cell_type": "markdown",
      "source": [
        "### **Plotting Classification Matrix**"
      ],
      "metadata": {
        "id": "Mf6ttp2XKg3G"
      }
    },
    {
      "cell_type": "code",
      "source": [
        " from sklearn.metrics import classification_report\n",
        "from sklearn.metrics import confusion_matrix\n",
        "\n",
        "pred = model_cnn.predict(test_images)\n",
        "pred = np.argmax(pred, axis = 1) \n",
        "y_true = np.argmax(test_labels, axis = 1)\n",
        "\n",
        "# Printing the classification report\n",
        "print(classification_report(y_true, pred))\n",
        "\n",
        "# Plotting the heatmap using confusion matrix\n",
        "cm = confusion_matrix(y_true, pred)\n",
        "plt.figure(figsize = (8, 5))\n",
        "sns.heatmap(cm, annot = True,  fmt = '.0f', xticklabels = ['no', 'yes'], yticklabels = ['no', 'yes'])\n",
        "plt.ylabel('Actual')\n",
        "plt.xlabel('Predicted')\n",
        "plt.show()"
      ],
      "metadata": {
        "colab": {
          "base_uri": "https://localhost:8080/",
          "height": 490
        },
        "id": "KMzJom4srjOP",
        "outputId": "48ee70d3-606b-4b1e-9567-5123e02dc9bf"
      },
      "execution_count": 15,
      "outputs": [
        {
          "output_type": "stream",
          "name": "stdout",
          "text": [
            "              precision    recall  f1-score   support\n",
            "\n",
            "           0       0.96      0.97      0.96        66\n",
            "           1       0.97      0.95      0.96        62\n",
            "\n",
            "    accuracy                           0.96       128\n",
            "   macro avg       0.96      0.96      0.96       128\n",
            "weighted avg       0.96      0.96      0.96       128\n",
            "\n"
          ]
        },
        {
          "output_type": "display_data",
          "data": {
            "text/plain": [
              "<Figure size 576x360 with 2 Axes>"
            ],
            "image/png": "[encoded data removed]"
          },
          "metadata": {
            "needs_background": "light"
          }
        }
      ]
    },
    {
      "cell_type": "markdown",
      "metadata": {
        "id": "3Rj5_s2uEn_e"
      },
      "source": [
        "# **Vision transformers**"
      ]
    },
    {
      "cell_type": "markdown",
      "metadata": {
        "id": "i9-UjRhBFG_V"
      },
      "source": [
        "**Configure the hyperparameters**"
      ]
    },
    {
      "cell_type": "code",
      "execution_count": null,
      "metadata": {
        "id": "sXXDpv07eDiS"
      },
      "outputs": [],
      "source": [
        "learning_rate = 0.001\n",
        "weight_decay = 0.0001\n",
        "batch_size = 256\n",
        "num_epochs = 100\n",
        "image_size = 64  # We'll resize input images to this size\n",
        "patch_size = 256  # Size of the patches to be extract from the input images\n",
        "num_patches = (image_size // patch_size) ** 2\n",
        "projection_dim = 64\n",
        "num_heads = 4\n",
        "transformer_units = [\n",
        "    projection_dim * 2,\n",
        "    projection_dim,\n",
        "]  # Size of the transformer layers\n",
        "transformer_layers = 8\n",
        "mlp_head_units = [2048, 1024]  # Size of the dense layers of the final classifier"
      ]
    },
    {
      "cell_type": "markdown",
      "metadata": {
        "id": "PDfbf0wVFcmL"
      },
      "source": [
        "Use data augmentation"
      ]
    },
    {
      "cell_type": "code",
      "execution_count": null,
      "metadata": {
        "id": "LUvXYFkHFOSf"
      },
      "outputs": [],
      "source": [
        "data_augmentation = keras.Sequential(\n",
        "    [\n",
        "        layers.Normalization(),\n",
        "        layers.Resizing(image_size, image_size),\n",
        "        layers.RandomFlip(\"horizontal\"),\n",
        "        layers.RandomRotation(factor=0.02),\n",
        "        layers.RandomZoom(\n",
        "            height_factor=0.2, width_factor=0.2\n",
        "        ),\n",
        "    ],\n",
        "    name=\"data_augmentation\",\n",
        ")\n",
        "# Compute the mean and the variance of the training data for normalization.\n",
        "data_augmentation.layers[0].adapt(x_train)"
      ]
    },
    {
      "cell_type": "markdown",
      "metadata": {
        "id": "SSgcEqnTFncQ"
      },
      "source": [
        "Implement multilayer perceptron (MLP)"
      ]
    },
    {
      "cell_type": "code",
      "execution_count": null,
      "metadata": {
        "id": "MXQLO9JsFrH9"
      },
      "outputs": [],
      "source": [
        "def mlp(x, hidden_units, dropout_rate):\n",
        "    for units in hidden_units:\n",
        "        x = layers.Dense(units, activation=tf.nn.gelu)(x)\n",
        "        x = layers.Dropout(dropout_rate)(x)\n",
        "    return x"
      ]
    },
    {
      "cell_type": "markdown",
      "metadata": {
        "id": "hSjs8fLAFvRn"
      },
      "source": [
        "Implement patch creation as a layer"
      ]
    },
    {
      "cell_type": "code",
      "execution_count": null,
      "metadata": {
        "id": "5Zc0mfGlF-tt"
      },
      "outputs": [],
      "source": [
        "class Patches(layers.Layer):\n",
        "    def __init__(self, patch_size):\n",
        "        super(Patches, self).__init__()\n",
        "        self.patch_size = patch_size\n",
        "\n",
        "    def call(self, images):\n",
        "        batch_size = tf.shape(images)[0]\n",
        "        patches = tf.image.extract_patches(\n",
        "            images=images,\n",
        "            sizes=[1, self.patch_size, self.patch_size, 1],\n",
        "            strides=[1, self.patch_size, self.patch_size, 1],\n",
        "            rates=[1, 1, 1, 1],\n",
        "            padding=\"VALID\",\n",
        "        )\n",
        "        patch_dims = patches.shape[-1]\n",
        "        patches = tf.reshape(patches, [batch_size, -1, patch_dims])\n",
        "        return patches"
      ]
    },
    {
      "cell_type": "markdown",
      "metadata": {
        "id": "h2fLw4T1GCkT"
      },
      "source": [
        "Display patches for a sample image"
      ]
    },
    {
      "cell_type": "code",
      "execution_count": null,
      "metadata": {
        "id": "rV0gUlpxGcWD"
      },
      "outputs": [],
      "source": [
        "import matplotlib.pyplot as plt\n",
        "\n",
        "plt.figure(figsize=(4, 4))\n",
        "image = x_train[np.random.choice(range(x_train.shape[0]))]\n",
        "plt.imshow(image.astype(\"uint8\"))\n",
        "plt.axis(\"off\")\n",
        "\n",
        "resized_image = tf.image.resize(\n",
        "    tf.convert_to_tensor([image]), size=(image_size, image_size)\n",
        ")\n",
        "patches = Patches(patch_size)(resized_image)\n",
        "print(f\"Image size: {image_size} X {image_size}\")\n",
        "print(f\"Patch size: {patch_size} X {patch_size}\")\n",
        "print(f\"Patches per image: {patches.shape[1]}\")\n",
        "print(f\"Elements per patch: {patches.shape[-1]}\")\n",
        "\n",
        "n = int(np.sqrt(patches.shape[1]))\n",
        "plt.figure(figsize=(4, 4))\n",
        "for i, patch in enumerate(patches[0]):\n",
        "    ax = plt.subplot(n, n, i + 1)\n",
        "    patch_img = tf.reshape(patch, (patch_size, patch_size, 3))\n",
        "    plt.imshow(patch_img.numpy().astype(\"uint8\"))\n",
        "    plt.axis(\"off\")"
      ]
    },
    {
      "cell_type": "markdown",
      "metadata": {
        "id": "EEyKh7EEGlZj"
      },
      "source": [
        "Implement the patch encoding layer\n",
        "The PatchEncoder layer will linearly transform a patch by projecting it into a vector of size projection_dim. In addition, it adds a learnable position embedding to the projected vector."
      ]
    },
    {
      "cell_type": "code",
      "execution_count": null,
      "metadata": {
        "id": "W8sGGLGwGmtM"
      },
      "outputs": [],
      "source": [
        "class PatchEncoder(layers.Layer):\n",
        "    def __init__(self, num_patches, projection_dim):\n",
        "        super(PatchEncoder, self).__init__()\n",
        "        self.num_patches = num_patches\n",
        "        self.projection = layers.Dense(units=projection_dim)\n",
        "        self.position_embedding = layers.Embedding(\n",
        "            input_dim=num_patches, output_dim=projection_dim\n",
        "        )\n",
        "\n",
        "    def call(self, patch):\n",
        "        positions = tf.range(start=0, limit=self.num_patches, delta=1)\n",
        "        encoded = self.projection(patch) + self.position_embedding(positions)\n",
        "        return encoded"
      ]
    },
    {
      "cell_type": "markdown",
      "metadata": {
        "id": "Dv8sRN-2Gw6Y"
      },
      "source": [
        "# **Build the ViT model**"
      ]
    },
    {
      "cell_type": "code",
      "execution_count": null,
      "metadata": {
        "id": "2Q4kusLzG0aD"
      },
      "outputs": [],
      "source": [
        "def create_vit_classifier():\n",
        "    inputs = layers.Input(shape=input_shape)\n",
        "    # Augment data.\n",
        "    augmented = data_augmentation(inputs)\n",
        "    # Create patches.\n",
        "    patches = Patches(patch_size)(augmented)\n",
        "    # Encode patches.\n",
        "    encoded_patches = PatchEncoder(num_patches, projection_dim)(patches)\n",
        "\n",
        "    # Create multiple layers of the Transformer block.\n",
        "    for _ in range(transformer_layers):\n",
        "        # Layer normalization 1.\n",
        "        x1 = layers.LayerNormalization(epsilon=1e-6)(encoded_patches)\n",
        "        # Create a multi-head attention layer.\n",
        "        attention_output = layers.MultiHeadAttention(\n",
        "            num_heads=num_heads, key_dim=projection_dim, dropout=0.1\n",
        "        )(x1, x1)\n",
        "        # Skip connection 1.\n",
        "        x2 = layers.Add()([attention_output, encoded_patches])\n",
        "        # Layer normalization 2.\n",
        "        x3 = layers.LayerNormalization(epsilon=1e-6)(x2)\n",
        "        # MLP.\n",
        "        x3 = mlp(x3, hidden_units=transformer_units, dropout_rate=0.1)\n",
        "        # Skip connection 2.\n",
        "        encoded_patches = layers.Add()([x3, x2])\n",
        "\n",
        "    # Create a [batch_size, projection_dim] tensor.\n",
        "    representation = layers.LayerNormalization(epsilon=1e-6)(encoded_patches)\n",
        "    representation = layers.Flatten()(representation)\n",
        "    representation = layers.Dropout(0.5)(representation)\n",
        "    # Add MLP.\n",
        "    features = mlp(representation, hidden_units=mlp_head_units, dropout_rate=0.5)\n",
        "    # Classify outputs.\n",
        "    logits = layers.Dense(num_classes)(features)\n",
        "    # Create the Keras model.\n",
        "    model = keras.Model(inputs=inputs, outputs=logits)\n",
        "    return model"
      ]
    },
    {
      "cell_type": "markdown",
      "metadata": {
        "id": "WFRfktlhG5Xi"
      },
      "source": [
        "Compile, train, and evaluate the mode"
      ]
    },
    {
      "cell_type": "code",
      "execution_count": null,
      "metadata": {
        "id": "z21y4JoXG8zo"
      },
      "outputs": [],
      "source": [
        "def run_experiment(model):\n",
        "    optimizer = tfa.optimizers.AdamW(\n",
        "        learning_rate=learning_rate, weight_decay=weight_decay\n",
        "    )\n",
        "\n",
        "    model.compile(\n",
        "        optimizer=optimizer,\n",
        "        loss=keras.losses.SparseCategoricalCrossentropy(from_logits=True),\n",
        "        metrics=[\n",
        "            keras.metrics.SparseCategoricalAccuracy(name=\"accuracy\"),\n",
        "            keras.metrics.SparseTopKCategoricalAccuracy(5, name=\"top-5-accuracy\"),\n",
        "        ],\n",
        "    )\n",
        "\n",
        "    checkpoint_filepath = \"/tmp/checkpoint\"\n",
        "    checkpoint_callback = keras.callbacks.ModelCheckpoint(\n",
        "        checkpoint_filepath,\n",
        "        monitor=\"val_accuracy\",\n",
        "        save_best_only=True,\n",
        "        save_weights_only=True,\n",
        "    )\n",
        "\n",
        "    history = model.fit(\n",
        "        x=x_train,\n",
        "        y=y_train,\n",
        "        batch_size=batch_size,\n",
        "        epochs=num_epochs,\n",
        "        validation_split=0.1,\n",
        "        callbacks=[checkpoint_callback],\n",
        "    )\n",
        "\n",
        "    model.load_weights(checkpoint_filepath)\n",
        "    _, accuracy, top_5_accuracy = model.evaluate(x_test, y_test)\n",
        "    print(f\"Test accuracy: {round(accuracy * 100, 2)}%\")\n",
        "    print(f\"Test top 5 accuracy: {round(top_5_accuracy * 100, 2)}%\")\n",
        "\n",
        "    return history\n",
        "\n",
        "\n",
        "vit_classifier = create_vit_classifier()\n",
        "history3 = run_experiment(vit_classifier)"
      ]
    },
    {
      "cell_type": "markdown",
      "metadata": {
        "id": "_H51V9BjHBMo"
      },
      "source": [
        ""
      ]
    }
  ],
  "metadata": {
    "colab": {
      "collapsed_sections": [],
      "name": "Malaria_Detection.ipynb",
      "provenance": [],
      "machine_shape": "hm",
      "authorship_tag": "ABX9TyMaQR9EWiBN6tMioW0F0t7s",
      "include_colab_link": true
    },
    "kernelspec": {
      "display_name": "Python 3",
      "name": "python3"
    },
    "language_info": {
      "name": "python"
    },
    "accelerator": "TPU",
    "gpuClass": "standard"
  },
  "nbformat": 4,
  "nbformat_minor": 0
}